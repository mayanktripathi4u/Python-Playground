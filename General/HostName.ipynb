{
 "cells": [
  {
   "cell_type": "markdown",
   "id": "eb1ebd6c",
   "metadata": {},
   "source": [
    "# Print HostName and IP"
   ]
  },
  {
   "cell_type": "code",
   "execution_count": 1,
   "id": "5ac0f475",
   "metadata": {},
   "outputs": [
    {
     "name": "stdout",
     "output_type": "stream",
     "text": [
      "Hostname: Ektas-MacBook-Air.local\n",
      "IP Address: 127.0.0.1\n"
     ]
    }
   ],
   "source": [
    "import socket\n",
    "\n",
    "hostname = socket.gethostname()\n",
    "host_ip = socket.gethostbyname(hostname)\n",
    "print(f\"Hostname: {hostname}\")\n",
    "print(f\"IP Address: {host_ip}\")\n",
    "# This script retrieves and prints the hostname and IP address of the machine it is run on.\n",
    "# It uses the socket library to get the hostname and then resolves it to an IP address.\n",
    "# The output will show the hostname and the corresponding IP address.\n",
    "# Note: The IP address returned is the IPv4 address of the machine.\n",
    "# If the machine has multiple network interfaces, it will return the IP address of the default interface.\n",
    "# This script is useful for debugging network issues or for logging purposes.\n",
    "# Ensure that the script has the necessary permissions to run."
   ]
  },
  {
   "cell_type": "code",
   "execution_count": 3,
   "id": "e0f0767c",
   "metadata": {},
   "outputs": [
    {
     "name": "stdout",
     "output_type": "stream",
     "text": [
      "os.uname() output: posix.uname_result(sysname='Darwin', nodename='Ektas-MacBook-Air.local', release='24.4.0', version='Darwin Kernel Version 24.4.0: Fri Apr 11 18:32:43 PDT 2025; root:xnu-11417.101.15~117/RELEASE_ARM64_T8103', machine='arm64')\n",
      "Using os.uname to get hostname:\n",
      "Ektas-MacBook-Air.local\n"
     ]
    }
   ],
   "source": [
    "# Alternatively, you can use the following code to get the IP address of a specific interface:\n",
    "\n",
    "import os\n",
    "print(f\"os.uname() output: { os.uname()}\") \n",
    "print(\"Using os.uname to get hostname:\")\n",
    "hostname = os.uname().nodename\n",
    "print(hostname)"
   ]
  },
  {
   "cell_type": "code",
   "execution_count": null,
   "id": "ce0757b3",
   "metadata": {},
   "outputs": [],
   "source": []
  }
 ],
 "metadata": {
  "kernelspec": {
   "display_name": ".venv",
   "language": "python",
   "name": "python3"
  },
  "language_info": {
   "codemirror_mode": {
    "name": "ipython",
    "version": 3
   },
   "file_extension": ".py",
   "mimetype": "text/x-python",
   "name": "python",
   "nbconvert_exporter": "python",
   "pygments_lexer": "ipython3",
   "version": "3.12.5"
  }
 },
 "nbformat": 4,
 "nbformat_minor": 5
}
