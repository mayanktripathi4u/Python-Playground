{
 "cells": [
  {
   "cell_type": "markdown",
   "metadata": {},
   "source": [
    "In this Notebook I am going to run the Linux and Bash / Shell Scripting commands.\n",
    "\n",
    "Since we are using Python NB, we use `%%bash`.\n",
    "\n",
    "- It's a cell magic command that allows executing bash shell commands within a Jupyter notebook cell.\n",
    "- The \"%%bash\" magic tells the IPython kernel to run the entire cell content in a bash subprocess, rather than interpreting it as Python code.\n",
    "- Unlike the single \"%\" line magic, \"%%bash\" affects the entire cell, enabling you to run multiple bash commands together.\n",
    "\n",
    "`%%bash` Vs `!` Vs `%`\n",
    "- Scope: \"%%bash\" is a cell magic that applies to the entire cell, allowing you to run multiple bash commands in a single cell. The \"!\" command is a line magic that executes a single shell command.\n",
    "- Environment: \"%%bash\" creates a new subprocess for the entire cell, maintaining the environment across multiple commands. \"!\" executes each command in a separate subprocess.\n",
    "- Variable passing: \"%%bash\" allows you to pass Python variables to the bash environment using the -s flag and positional arguments. This is not directly possible with \"!\".\n",
    "- Multiline commands: \"%%bash\" is more suitable for complex, multiline bash scripts, while \"!\" is typically used for single-line commands.\n",
    "- Output handling: \"%%bash\" captures the output of all commands in the cell, while \"!\" captures the output of each command separately.\n",
    "- For simple, single-line commands like `!pip install pandas`, using \"!\" is often more convenient. However, for more complex bash operations or when you need to maintain state across multiple commands, \"%%bash\" is more appropriate\n"
   ]
  },
  {
   "cell_type": "code",
   "execution_count": 1,
   "metadata": {
    "vscode": {
     "languageId": "shellscript"
    }
   },
   "outputs": [
    {
     "name": "stdout",
     "output_type": "stream",
     "text": [
      "Basic_Setup.md      \u001b[34mFlaskAppWithDB\u001b[m\u001b[m/     \u001b[34mProjects\u001b[m\u001b[m/           linux_basics.ipynb\n",
      "\u001b[34mConcepts_Examples\u001b[m\u001b[m/  \u001b[34mMoneyControlApp\u001b[m\u001b[m/    \u001b[34mPyTest\u001b[m\u001b[m/\n"
     ]
    }
   ],
   "source": [
    "ls"
   ]
  },
  {
   "cell_type": "code",
   "execution_count": null,
   "metadata": {
    "vscode": {
     "languageId": "shellscript"
    }
   },
   "outputs": [
    {
     "name": "stdout",
     "output_type": "stream",
     "text": [
      "My name is Mayank\n"
     ]
    }
   ],
   "source": [
    "%%bash\n",
    "# Variables\n",
    "# Variables are used to store data, and can be used in place of that data.\n",
    "# Variables are defined by the variable name, followed by an equals sign, followed by the value of the variable.\n",
    "# Variables can be used in place of the value they store.\n",
    "# This is done by using a dollar sign followed by the variable name.\n",
    "# For example, to print the value of the variable my_name, you would use the following command:\n",
    "my_name=\"Mayank\"\n",
    "echo \"My name is $my_name\""
   ]
  },
  {
   "cell_type": "markdown",
   "metadata": {},
   "source": [
    "# Operators"
   ]
  },
  {
   "cell_type": "code",
   "execution_count": 7,
   "metadata": {
    "vscode": {
     "languageId": "shellscript"
    }
   },
   "outputs": [
    {
     "name": "stdout",
     "output_type": "stream",
     "text": [
      "b is greater than a\n"
     ]
    }
   ],
   "source": [
    "%%bash\n",
    "\n",
    "a=10\n",
    "b=20\n",
    "if [ $a -gt $b ]\n",
    "then\n",
    "    echo \"a is greater than b\"\n",
    "else\n",
    "    echo \"b is greater than a\"\n",
    "fi"
   ]
  },
  {
   "cell_type": "code",
   "execution_count": 8,
   "metadata": {
    "vscode": {
     "languageId": "shellscript"
    }
   },
   "outputs": [
    {
     "name": "stdout",
     "output_type": "stream",
     "text": [
      "1\n",
      "2\n",
      "3\n",
      "4\n",
      "5\n"
     ]
    }
   ],
   "source": [
    "%%bash\n",
    "# Shell Loops -- While Loop\n",
    "# While loops are used to execute a block of code multiple times.\n",
    "# The block of code is executed as long as the condition specified in the while loop is true.\n",
    "# The condition is specified after the while keyword, and is enclosed in square brackets.\n",
    "# The block of code is enclosed in curly braces.\n",
    "# For example, the following while loop prints the numbers from 1 to 5:\n",
    "# Two ways to increment the value of i\n",
    "# i=$((i+1))\n",
    "# i=`expr $i + 1`\n",
    "\n",
    "i=1\n",
    "while [ $i -le 5 ]\n",
    "do\n",
    "    echo $i\n",
    "    i=$((i+1))\n",
    "    # i=`expr $i + 1`\n",
    "done"
   ]
  },
  {
   "cell_type": "code",
   "execution_count": 9,
   "metadata": {
    "vscode": {
     "languageId": "shellscript"
    }
   },
   "outputs": [
    {
     "name": "stdout",
     "output_type": "stream",
     "text": [
      "1\n",
      "2\n",
      "3\n",
      "4\n",
      "5\n"
     ]
    }
   ],
   "source": [
    "%%bash\n",
    "# Until Loop\n",
    "# Until loops are similar to while loops, but the block of code is executed as long as the condition specified in the until loop is false.\n",
    "# The condition is specified after the until keyword, and is enclosed in square brackets.\n",
    "# The block of code is enclosed in curly braces.\n",
    "# For example, the following until loop prints the numbers from 1 to 5:\n",
    "i=1\n",
    "until [ $i -gt 5 ]\n",
    "do\n",
    "    echo $i\n",
    "    i=$((i+1))\n",
    "    # i=`expr $i + 1`\n",
    "done"
   ]
  },
  {
   "cell_type": "code",
   "execution_count": null,
   "metadata": {
    "vscode": {
     "languageId": "shellscript"
    }
   },
   "outputs": [
    {
     "name": "stdout",
     "output_type": "stream",
     "text": [
      "Looping ... number: 1\n",
      "Looping ... number: 2\n",
      "Looping ... number: 3\n",
      "Looping ... number: 4\n",
      "Looping ... number: 5\n"
     ]
    }
   ],
   "source": [
    "%%bash\n",
    "# For Loop\n",
    "# For loops are used to iterate over a list of items.\n",
    "# The list of items is specified after the for keyword, and is enclosed in parentheses.\n",
    "# The block of code is enclosed in curly braces.\n",
    "# For example, the following for loop prints the numbers from 1 to 5:\n",
    "for i in 1 2 3 4 5\n",
    "do\n",
    "    echo \"Looping ... number: $i\"\n",
    "done"
   ]
  },
  {
   "cell_type": "code",
   "execution_count": null,
   "metadata": {
    "vscode": {
     "languageId": "shellscript"
    }
   },
   "outputs": [],
   "source": []
  }
 ],
 "metadata": {
  "kernelspec": {
   "display_name": ".venv",
   "language": "python",
   "name": "python3"
  },
  "language_info": {
   "codemirror_mode": {
    "name": "ipython",
    "version": 3
   },
   "file_extension": ".py",
   "mimetype": "text/x-python",
   "name": "python",
   "nbconvert_exporter": "python",
   "pygments_lexer": "ipython3",
   "version": "3.12.5"
  }
 },
 "nbformat": 4,
 "nbformat_minor": 2
}
