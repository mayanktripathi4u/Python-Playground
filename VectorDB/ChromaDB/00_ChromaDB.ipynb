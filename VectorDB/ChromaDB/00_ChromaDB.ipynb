{
 "cells": [
  {
   "cell_type": "markdown",
   "id": "1a52542b",
   "metadata": {},
   "source": [
    "# ChromaDB\n",
    "ChromaDB (or just Chroma) is an open-source embedding database (vector store) used for retrieval-augmented generation (RAG), semantic search, and working with LLM-based applications.\n",
    "\n",
    "It’s built to store and search embeddings (vectors) efficiently, making it ideal for use cases like:\n",
    "\n",
    "- AI chatbots (based on document/query retrieval)\n",
    "\n",
    "- Semantic search over text or logs\n",
    "\n",
    "- Question-answering systems\n",
    "\n",
    "- Custom LLM knowledge base using embeddings"
   ]
  },
  {
   "cell_type": "markdown",
   "id": "aae4f0f0",
   "metadata": {},
   "source": [
    "# 📦 What is `chromadb.client`?\n",
    "`chromadb.client` is part of the ChromaDB Python SDK. It's the main interface to interact with a Chroma vector database from your Python code.\n",
    "\n",
    "You use it to:\n",
    "\n",
    "- Initialize a client\n",
    "\n",
    "- Create, read, and update collections\n",
    "\n",
    "- Insert and query embeddings"
   ]
  },
  {
   "cell_type": "markdown",
   "id": "bffeeabf",
   "metadata": {},
   "source": [
    "# Example:\n"
   ]
  },
  {
   "cell_type": "code",
   "execution_count": 2,
   "id": "21f4b1a2",
   "metadata": {},
   "outputs": [],
   "source": [
    "import chromadb\n",
    "from chromadb.config import Settings"
   ]
  },
  {
   "cell_type": "code",
   "execution_count": 7,
   "id": "ae9df194",
   "metadata": {},
   "outputs": [],
   "source": [
    "\n",
    "client = chromadb.Client(Settings(\n",
    "    # chroma_db_impl=\"duckdb+parquet\",  # default local setup\n",
    "    persist_directory=\"./chroma_store\",  # folder where data will be stored\n",
    "    is_persistent=True,\n",
    "))\n"
   ]
  },
  {
   "cell_type": "code",
   "execution_count": 8,
   "id": "fcbf0358",
   "metadata": {},
   "outputs": [],
   "source": [
    "collection = client.get_or_create_collection(name=\"my_docs\")\n",
    "collection.add(\n",
    "    documents=[\"This is a log line\", \"Another message\"],\n",
    "    ids=[\"doc1\", \"doc2\"]\n",
    ")"
   ]
  },
  {
   "cell_type": "code",
   "execution_count": 9,
   "id": "f92c9548",
   "metadata": {},
   "outputs": [
    {
     "name": "stdout",
     "output_type": "stream",
     "text": [
      "{'ids': [['doc1']], 'embeddings': None, 'documents': [['This is a log line']], 'uris': None, 'included': ['metadatas', 'documents', 'distances'], 'data': None, 'metadatas': [[None]], 'distances': [[0.265164315700531]]}\n"
     ]
    }
   ],
   "source": [
    "results = collection.query(query_texts=[\"log line\"], n_results=1)\n",
    "print(results)"
   ]
  },
  {
   "cell_type": "markdown",
   "id": "e7f52fa1",
   "metadata": {},
   "source": [
    "# ⚙️ Settings Options in chromadb.client\n",
    "You pass `Settings()` into `chromadb.Client()` to configure behavior.\n",
    "\n",
    "Here are the most important options:\n",
    "\n",
    "|Setting Key|\tDescription|\tExample|\n",
    "|-----------|--------------|---------------|\n",
    "|chroma_db_impl\t|The database engine used by Chroma. Options: \"duckdb+parquet\" (local), \"clickhouse\" (for advanced)\t|\"duckdb+parquet\"|\n",
    "|persist_directory\t|Path to store data if using duckdb+parquet\t|\"./chroma_store\"|\n",
    "|anonymized_telemetry\t|Whether to send usage data to developers (set to False for privacy)|\tFalse|\n",
    "|is_persistent\t|Whether data persists after client shutdown (only applies to duckdb+parquet)\t|True|\n",
    "|allow_reset\t|Allows you to reset collections\t|True|\n",
    "|require_hnsw\t|Use HNSW for ANN search (optional)\t|True|"
   ]
  },
  {
   "cell_type": "markdown",
   "id": "ff5b07d5",
   "metadata": {},
   "source": [
    "# Example with all Options"
   ]
  },
  {
   "cell_type": "code",
   "execution_count": null,
   "id": "8ab59a1e",
   "metadata": {},
   "outputs": [],
   "source": [
    "from chromadb.config import Settings\n",
    "\n",
    "settings = Settings(\n",
    "    chroma_db_impl=\"duckdb+parquet\",\n",
    "    persist_directory=\"./chroma_data\",\n",
    "    anonymized_telemetry=False,\n",
    "    is_persistent=True,\n",
    "    allow_reset=True\n",
    ")\n",
    "\n",
    "client = chromadb.Client(settings)\n"
   ]
  },
  {
   "cell_type": "markdown",
   "id": "5418176b",
   "metadata": {},
   "source": [
    "# 🧠 Key Concepts in Chroma\n",
    "|Concept|\tDescription|\n",
    "|--------|-------------|\n",
    "|Collection|\tLike a table; stores documents and embeddings|\n",
    "|Document\t|The actual text (or chunk of text)|\n",
    "|Embedding|\tVector representation of a document|\n",
    "|Query|\tFind the most relevant documents using vector similarity|\n",
    "\n",
    "\n",
    "# 🚀 Why Use Chroma?\n",
    "- Very easy to set up (just install and run locally)\n",
    "\n",
    "- Built-in persistence (no need for external DB)\n",
    "\n",
    "- Works well with LangChain, LlamaIndex, and other RAG frameworks\n",
    "\n",
    "- Supports filters and metadata\n"
   ]
  },
  {
   "cell_type": "markdown",
   "id": "a8e427d9",
   "metadata": {},
   "source": [
    "# 🔧 How to Install\n",
    "\n",
    "```bash\n",
    "pip install chromadb\n",
    "```"
   ]
  },
  {
   "cell_type": "markdown",
   "id": "d4999b70",
   "metadata": {},
   "source": []
  }
 ],
 "metadata": {
  "kernelspec": {
   "display_name": ".vectordbenv",
   "language": "python",
   "name": "python3"
  },
  "language_info": {
   "codemirror_mode": {
    "name": "ipython",
    "version": 3
   },
   "file_extension": ".py",
   "mimetype": "text/x-python",
   "name": "python",
   "nbconvert_exporter": "python",
   "pygments_lexer": "ipython3",
   "version": "3.12.5"
  }
 },
 "nbformat": 4,
 "nbformat_minor": 5
}
