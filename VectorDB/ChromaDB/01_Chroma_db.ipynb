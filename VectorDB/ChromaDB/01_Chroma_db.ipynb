{
 "cells": [
  {
   "cell_type": "markdown",
   "id": "e23548d2",
   "metadata": {},
   "source": [
    "# What is ChromaDB\n",
    "[Refer](00_ChromaDB.ipynb)\n",
    "\n"
   ]
  },
  {
   "cell_type": "code",
   "execution_count": 2,
   "id": "18fa204a",
   "metadata": {},
   "outputs": [],
   "source": [
    "# Virtual Env.\n",
    "# cd /Users/tripathimachine/Desktop/Apps/GitHub_Repo/Python-Playground/VectorDB\n",
    "# python3 -m venv .vectordbenv\n",
    "\n",
    "# Activate the virtual environment\n",
    "# source .vectordbenv/bin/activate\n",
    "\n",
    "# Restart the VS Code is the virtual environment is not accessiable while changing the Kernel."
   ]
  },
  {
   "cell_type": "code",
   "execution_count": 3,
   "id": "b13514f2",
   "metadata": {},
   "outputs": [],
   "source": [
    "# !pip3 install chromadb pandas"
   ]
  },
  {
   "cell_type": "code",
   "execution_count": 4,
   "id": "d2e4e92c",
   "metadata": {},
   "outputs": [
    {
     "name": "stdout",
     "output_type": "stream",
     "text": [
      "chromadb version: 1.0.11\n"
     ]
    }
   ],
   "source": [
    "# CHeck if chromadb is installed with what version\n",
    "import importlib.metadata\n",
    "def check_chromadb_version():\n",
    "    try:\n",
    "        version = importlib.metadata.version(\"chromadb\")\n",
    "        print(f\"chromadb version: {version}\")\n",
    "    except importlib.metadata.PackageNotFoundError:\n",
    "        print(\"chromadb is not installed.\")\n",
    "\n",
    "check_chromadb_version()"
   ]
  },
  {
   "cell_type": "code",
   "execution_count": 6,
   "id": "f285873d",
   "metadata": {},
   "outputs": [],
   "source": [
    "import chromadb\n",
    "from datetime import datetime\n",
    "chroma_client = chromadb.Client()"
   ]
  },
  {
   "cell_type": "code",
   "execution_count": 7,
   "id": "a130c5af",
   "metadata": {},
   "outputs": [],
   "source": [
    "# Crete a collection\n",
    "collection = chroma_client.create_collection(\n",
    "    name=\"test_collection\",\n",
    "    metadata={\n",
    "        \"description\": \"A collection for testing purposes\",\n",
    "        \"created_at\": datetime.now().isoformat()\n",
    "    }    \n",
    ")"
   ]
  },
  {
   "cell_type": "code",
   "execution_count": 8,
   "id": "9f134207",
   "metadata": {},
   "outputs": [
    {
     "name": "stderr",
     "output_type": "stream",
     "text": [
      "/Users/tripathimachine/.cache/chroma/onnx_models/all-MiniLM-L6-v2/onnx.tar.gz: 100%|██████████| 79.3M/79.3M [00:07<00:00, 10.4MiB/s]\n"
     ]
    }
   ],
   "source": [
    "# Add documents to the collection\n",
    "collection.add(\n",
    "    documents=[\n",
    "        \"Hello, world!\", \n",
    "        \"ChromaDB is great!\", \n",
    "        \"Python is awesome!\",\n",
    "        \"Messi and Ronaldo are two of the greatest footballers of all time.\",\n",
    "        \"India is a famous country and rich in culture.\",\n",
    "        \"Weather is getting hotter every year.\",\n",
    "        \"The stock market is unpredictable.\",\n",
    "        \"Apples are a great source of vitamins.\",\n",
    "        \"Bananas are a good source of potassium.\",\n",
    "        \"Oranges are rich in vitamin C.\",\n",
    "        \"The Eiffel Tower is in Paris.\",\n",
    "    ],\n",
    "    metadatas=[\n",
    "        {\"source\": \"greeting\"}, \n",
    "        {\"source\": \"statement\"}, \n",
    "        {\"source\": \"opinion\"},\n",
    "        {\"source\": \"sports\"},\n",
    "        {\"source\": \"geography\"},\n",
    "        {\"source\": \"climate\"},\n",
    "        {\"source\": \"finance\"},\n",
    "        {\"source\": \"nutrition\"},\n",
    "        {\"source\": \"nutrition\"},\n",
    "        {\"source\": \"nutrition\"},\n",
    "        {\"source\": \"landmark\"}\n",
    "    ],\n",
    "    ids=[\"doc1\", \"doc2\", \"doc3\", \"doc4\", \"doc5\", \"doc6\", \"doc7\", \"doc8\", \"doc9\", \"doc10\", \"doc11\"]\n",
    ")\n"
   ]
  },
  {
   "cell_type": "code",
   "execution_count": 9,
   "id": "1d992b37",
   "metadata": {},
   "outputs": [
    {
     "data": {
      "text/plain": [
       "{'ids': ['doc1',\n",
       "  'doc2',\n",
       "  'doc3',\n",
       "  'doc4',\n",
       "  'doc5',\n",
       "  'doc6',\n",
       "  'doc7',\n",
       "  'doc8',\n",
       "  'doc9',\n",
       "  'doc10',\n",
       "  'doc11'],\n",
       " 'embeddings': None,\n",
       " 'documents': ['Hello, world!',\n",
       "  'ChromaDB is great!',\n",
       "  'Python is awesome!',\n",
       "  'Messi and Ronaldo are two of the greatest footballers of all time.',\n",
       "  'India is a famous country and rich in culture.',\n",
       "  'Weather is getting hotter every year.',\n",
       "  'The stock market is unpredictable.',\n",
       "  'Apples are a great source of vitamins.',\n",
       "  'Bananas are a good source of potassium.',\n",
       "  'Oranges are rich in vitamin C.',\n",
       "  'The Eiffel Tower is in Paris.'],\n",
       " 'uris': None,\n",
       " 'included': ['metadatas', 'documents'],\n",
       " 'data': None,\n",
       " 'metadatas': [{'source': 'greeting'},\n",
       "  {'source': 'statement'},\n",
       "  {'source': 'opinion'},\n",
       "  {'source': 'sports'},\n",
       "  {'source': 'geography'},\n",
       "  {'source': 'climate'},\n",
       "  {'source': 'finance'},\n",
       "  {'source': 'nutrition'},\n",
       "  {'source': 'nutrition'},\n",
       "  {'source': 'nutrition'},\n",
       "  {'source': 'landmark'}]}"
      ]
     },
     "execution_count": 9,
     "metadata": {},
     "output_type": "execute_result"
    }
   ],
   "source": [
    "collection.get()"
   ]
  },
  {
   "cell_type": "code",
   "execution_count": 11,
   "id": "aeec4eec",
   "metadata": {},
   "outputs": [
    {
     "name": "stdout",
     "output_type": "stream",
     "text": [
      "Query Results:\n",
      "{'ids': [['doc11', 'doc5'], ['doc6', 'doc1']], 'embeddings': None, 'documents': [['The Eiffel Tower is in Paris.', 'India is a famous country and rich in culture.'], ['Weather is getting hotter every year.', 'Hello, world!']], 'uris': None, 'included': ['metadatas', 'documents', 'distances'], 'data': None, 'metadatas': [[{'source': 'landmark'}, {'source': 'geography'}], [{'source': 'climate'}, {'source': 'greeting'}]], 'distances': [[1.1760705709457397, 1.6459715366363525], [1.0603718757629395, 1.5871087312698364]]}\n"
     ]
    }
   ],
   "source": [
    "# Query the collection\n",
    "results = collection.query(\n",
    "    query_texts=[\n",
    "        \"What is the capital of France?\", \n",
    "        \"What is the weather like?\"\n",
    "    ],\n",
    "    n_results=2\n",
    ")\n",
    "\n",
    "print(\"Query Results:\")\n",
    "print(results)"
   ]
  },
  {
   "cell_type": "code",
   "execution_count": 12,
   "id": "1abed0cb",
   "metadata": {},
   "outputs": [],
   "source": [
    "# add / Upsert a document\n",
    "collection.upsert(\n",
    "    documents=[\"The capital of France is Paris.\"],\n",
    "    metadatas=[{\"source\": \"geography\"}],\n",
    "    ids=[\"doc12\"]\n",
    ") "
   ]
  },
  {
   "cell_type": "code",
   "execution_count": 13,
   "id": "4fa419f1",
   "metadata": {},
   "outputs": [
    {
     "data": {
      "text/plain": [
       "{'ids': ['doc1',\n",
       "  'doc2',\n",
       "  'doc3',\n",
       "  'doc4',\n",
       "  'doc5',\n",
       "  'doc6',\n",
       "  'doc7',\n",
       "  'doc8',\n",
       "  'doc9',\n",
       "  'doc10',\n",
       "  'doc11',\n",
       "  'doc12'],\n",
       " 'embeddings': None,\n",
       " 'documents': ['Hello, world!',\n",
       "  'ChromaDB is great!',\n",
       "  'Python is awesome!',\n",
       "  'Messi and Ronaldo are two of the greatest footballers of all time.',\n",
       "  'India is a famous country and rich in culture.',\n",
       "  'Weather is getting hotter every year.',\n",
       "  'The stock market is unpredictable.',\n",
       "  'Apples are a great source of vitamins.',\n",
       "  'Bananas are a good source of potassium.',\n",
       "  'Oranges are rich in vitamin C.',\n",
       "  'The Eiffel Tower is in Paris.',\n",
       "  'The capital of France is Paris.'],\n",
       " 'uris': None,\n",
       " 'included': ['metadatas', 'documents'],\n",
       " 'data': None,\n",
       " 'metadatas': [{'source': 'greeting'},\n",
       "  {'source': 'statement'},\n",
       "  {'source': 'opinion'},\n",
       "  {'source': 'sports'},\n",
       "  {'source': 'geography'},\n",
       "  {'source': 'climate'},\n",
       "  {'source': 'finance'},\n",
       "  {'source': 'nutrition'},\n",
       "  {'source': 'nutrition'},\n",
       "  {'source': 'nutrition'},\n",
       "  {'source': 'landmark'},\n",
       "  {'source': 'geography'}]}"
      ]
     },
     "execution_count": 13,
     "metadata": {},
     "output_type": "execute_result"
    }
   ],
   "source": [
    "collection.get()"
   ]
  },
  {
   "cell_type": "code",
   "execution_count": null,
   "id": "91340b23",
   "metadata": {},
   "outputs": [],
   "source": []
  }
 ],
 "metadata": {
  "kernelspec": {
   "display_name": "Python 3",
   "language": "python",
   "name": "python3"
  },
  "language_info": {
   "codemirror_mode": {
    "name": "ipython",
    "version": 3
   },
   "file_extension": ".py",
   "mimetype": "text/x-python",
   "name": "python",
   "nbconvert_exporter": "python",
   "pygments_lexer": "ipython3",
   "version": "3.12.5"
  }
 },
 "nbformat": 4,
 "nbformat_minor": 5
}
