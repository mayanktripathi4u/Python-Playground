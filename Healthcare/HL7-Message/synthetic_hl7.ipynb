{
 "cells": [
  {
   "cell_type": "markdown",
   "id": "9647fcb0",
   "metadata": {},
   "source": [
    "This is to simulate eHR system by generating synthetic HL7 Message using Python."
   ]
  },
  {
   "cell_type": "code",
   "execution_count": 6,
   "id": "4e186795",
   "metadata": {},
   "outputs": [],
   "source": [
    "import socket\n",
    "import random\n",
    "from datetime import datetime\n",
    "from faker import Faker"
   ]
  },
  {
   "cell_type": "code",
   "execution_count": 2,
   "id": "5fcce303",
   "metadata": {},
   "outputs": [],
   "source": [
    "def random_patient_name():\n",
    "    first_names = [\"John\", \"Jane\", \"Alice\", \"Bob\", \"Mary\", \"Mike\"]\n",
    "    last_names = [\"Smith\", \"Johnson\", \"Williams\", \"Brown\", \"Jones\"]\n",
    "    return random.choice(last_names), random.choice(first_names)\n"
   ]
  },
  {
   "cell_type": "code",
   "execution_count": 3,
   "id": "cf0a0d38",
   "metadata": {},
   "outputs": [
    {
     "data": {
      "text/plain": [
       "('Williams', 'Jane')"
      ]
     },
     "execution_count": 3,
     "metadata": {},
     "output_type": "execute_result"
    }
   ],
   "source": [
    "random_patient_name()"
   ]
  },
  {
   "cell_type": "code",
   "execution_count": 9,
   "id": "4cdd2225",
   "metadata": {},
   "outputs": [],
   "source": [
    "def random_fake_patient_name():\n",
    "    fake = Faker()\n",
    "    first_name = \"Fake \" + fake.first_name()\n",
    "    last_name = fake.last_name()\n",
    "    return last_name, first_name"
   ]
  },
  {
   "cell_type": "code",
   "execution_count": 10,
   "id": "ddee8620",
   "metadata": {},
   "outputs": [
    {
     "data": {
      "text/plain": [
       "('Bartlett', 'Fake Michael')"
      ]
     },
     "execution_count": 10,
     "metadata": {},
     "output_type": "execute_result"
    }
   ],
   "source": [
    "random_fake_patient_name()"
   ]
  },
  {
   "cell_type": "code",
   "execution_count": 11,
   "id": "50f79b58",
   "metadata": {},
   "outputs": [],
   "source": [
    "def generate_common_segments(now, patient_id):\n",
    "    # last, first = random_patient_name()\n",
    "    last, first = random_fake_patient_name()\n",
    "    pid = f\"PID|1||{patient_id}^^^Hospital^MR||{last}^{first}^A||19800101|M|||123 Main St^^City^ST^12345||555-1234|||M|NON|123456789\"\n",
    "    return pid"
   ]
  },
  {
   "cell_type": "code",
   "execution_count": 12,
   "id": "935b21f1",
   "metadata": {},
   "outputs": [
    {
     "data": {
      "text/plain": [
       "'PID|1||1234567890^^^Hospital^MR||Bray^Fake Veronica^A||19800101|M|||123 Main St^^City^ST^12345||555-1234|||M|NON|123456789'"
      ]
     },
     "execution_count": 12,
     "metadata": {},
     "output_type": "execute_result"
    }
   ],
   "source": [
    "generate_common_segments(datetime.now, \"1234567890\")"
   ]
  },
  {
   "cell_type": "code",
   "execution_count": 13,
   "id": "6fdbd240",
   "metadata": {},
   "outputs": [],
   "source": [
    "def generate_hl7_message():\n",
    "    now = datetime.now().strftime('%Y%m%d%H%M%S')\n",
    "    patient_id = random.randint(100000, 999999)\n",
    "    visit_id = random.randint(1000, 9999)\n",
    "\n",
    "    message_type = random.choice([\"ADT^A01\", \"ADT^A03\", \"ORU^R01\", \"ORM^O01\"])\n",
    "    msh = f\"MSH|^~\\\\&|TestSystem|Hospital|EMRSystem|Facility|{now}||{message_type}|{visit_id}|P|2.5\"\n",
    "    pid = generate_common_segments(now, patient_id)\n",
    "\n",
    "    segments = [msh, pid]\n",
    "\n",
    "    if message_type == \"ADT^A01\":\n",
    "        nk1 = \"NK1|1|Doe^Jane|SPOUSE|123 Main St^^City^ST^12345|555-9876\"\n",
    "        pv1 = f\"PV1|1|I|W^101^1^GeneralHospital||||1234^Jones^Mary^A|||MED|||||||123456^Clerk^Amy|||{now[:8]}0800\"\n",
    "        segments.extend([nk1, pv1])\n",
    "\n",
    "    elif message_type == \"ADT^A03\":\n",
    "        pv1 = f\"PV1|1|I|W^101^1^GeneralHospital||||5678^Doctor^Greg^A|||MED|||||||876543^DischargeClerk^John|||{now[:8]}1700\"\n",
    "        segments.append(pv1)\n",
    "\n",
    "    elif message_type == \"ORU^R01\":\n",
    "        obr = f\"OBR|1||ORD4488^LAB|CBC^Complete Blood Count|||{now}|||||||||1234^LabTech^Lori\"\n",
    "        obx = f\"OBX|1|NM|WBC^White Blood Cells||5.6|10^9/L|4.0-10.0|N|||F\"\n",
    "        segments.extend([obr, obx])\n",
    "\n",
    "    elif message_type == \"ORM^O01\":\n",
    "        orc = f\"ORC|NW|ORD8877|||CM||||{now}|||1234^Dr^Smith\"\n",
    "        obr = f\"OBR|1|ORD8877||XRAY^Chest X-Ray|||{now}|||||||||4321^RadTech^Ray\"\n",
    "        segments.extend([orc, obr])\n",
    "\n",
    "    hl7_message = \"\\r\".join(segments)\n",
    "    return hl7_message, message_type"
   ]
  },
  {
   "cell_type": "code",
   "execution_count": 14,
   "id": "5127956e",
   "metadata": {},
   "outputs": [
    {
     "data": {
      "text/plain": [
       "('MSH|^~\\\\&|TestSystem|Hospital|EMRSystem|Facility|20250522193832||ADT^A01|8663|P|2.5\\rPID|1||344716^^^Hospital^MR||Harris^Fake Judy^A||19800101|M|||123 Main St^^City^ST^12345||555-1234|||M|NON|123456789\\rNK1|1|Doe^Jane|SPOUSE|123 Main St^^City^ST^12345|555-9876\\rPV1|1|I|W^101^1^GeneralHospital||||1234^Jones^Mary^A|||MED|||||||123456^Clerk^Amy|||202505220800',\n",
       " 'ADT^A01')"
      ]
     },
     "execution_count": 14,
     "metadata": {},
     "output_type": "execute_result"
    }
   ],
   "source": [
    "generate_hl7_message()"
   ]
  },
  {
   "cell_type": "code",
   "execution_count": 17,
   "id": "9b093877",
   "metadata": {},
   "outputs": [
    {
     "name": "stdout",
     "output_type": "stream",
     "text": [
      "----- HL7 Message (message of type ORU^R01) -----\n",
      "MSH|^~\\&|TestSystem|Hospital|EMRSystem|Facility|20250522194219||ORU^R01|2933|P|2.5\n",
      "PID|1||905215^^^Hospital^MR||Parks^Fake Tracy^A||19800101|M|||123 Main St^^City^ST^12345||555-1234|||M|NON|123456789\n",
      "OBR|1||ORD4488^LAB|CBC^Complete Blood Count|||20250522194219|||||||||1234^LabTech^Lori\n",
      "OBX|1|NM|WBC^White Blood Cells||5.6|10^9/L|4.0-10.0|N|||F\n"
     ]
    }
   ],
   "source": [
    "hl7_message, message_type = generate_hl7_message()\n",
    "mllp_message = b\"\\x0b\" + hl7_message.encode() + b\"\\x1c\\x0d\"\n",
    "\n",
    "print(f\"----- HL7 Message (message of type {message_type}) -----\")\n",
    "print(hl7_message.replace(\"\\r\", \"\\n\"))"
   ]
  },
  {
   "cell_type": "code",
   "execution_count": null,
   "id": "76c58400",
   "metadata": {},
   "outputs": [],
   "source": []
  }
 ],
 "metadata": {
  "kernelspec": {
   "display_name": ".venv",
   "language": "python",
   "name": "python3"
  },
  "language_info": {
   "codemirror_mode": {
    "name": "ipython",
    "version": 3
   },
   "file_extension": ".py",
   "mimetype": "text/x-python",
   "name": "python",
   "nbconvert_exporter": "python",
   "pygments_lexer": "ipython3",
   "version": "3.12.5"
  }
 },
 "nbformat": 4,
 "nbformat_minor": 5
}
